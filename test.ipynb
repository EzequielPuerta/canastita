{
 "cells": [
  {
   "cell_type": "code",
   "execution_count": 7,
   "metadata": {},
   "outputs": [
    {
     "name": "stdout",
     "output_type": "stream",
     "text": [
      "Defaulting to user installation because normal site-packages is not writeable\n",
      "Collecting beautifulsoup4\n",
      "  Downloading beautifulsoup4-4.11.2-py3-none-any.whl (129 kB)\n",
      "\u001b[2K     \u001b[90m━━━━━━━━━━━━━━━━━━━━━━━━━━━━━━━━━━━━━\u001b[0m \u001b[32m129.4/129.4 KB\u001b[0m \u001b[31m558.8 kB/s\u001b[0m eta \u001b[36m0:00:00\u001b[0ma \u001b[36m0:00:01\u001b[0m\n",
      "\u001b[?25hCollecting soupsieve>1.2\n",
      "  Downloading soupsieve-2.3.2.post1-py3-none-any.whl (37 kB)\n",
      "Installing collected packages: soupsieve, beautifulsoup4\n",
      "Successfully installed beautifulsoup4-4.11.2 soupsieve-2.3.2.post1\n"
     ]
    }
   ],
   "source": [
    "!python3 -m pip install beautifulsoup4"
   ]
  },
  {
   "cell_type": "code",
   "execution_count": 8,
   "metadata": {},
   "outputs": [],
   "source": [
    "from bs4 import BeautifulSoup\n",
    "from urllib.request import urlopen\n",
    "\n",
    "url = \"https://dieteticarojas.com\"\n",
    "page = urlopen(url)\n",
    "html = page.read().decode(\"utf-8\")\n",
    "soup = BeautifulSoup(html, \"html.parser\")"
   ]
  },
  {
   "cell_type": "code",
   "execution_count": 64,
   "metadata": {},
   "outputs": [
    {
     "data": {
      "text/plain": [
       "<a class=\"nav-list-link\" href=\"https://dieteticarojas.com/almacen/conservas-y-embutidos/\">Conservas y Embutidos</a>"
      ]
     },
     "execution_count": 64,
     "metadata": {},
     "output_type": "execute_result"
    }
   ],
   "source": [
    "almacen = soup.find_all(\"a\", class_=\"nav-list-link\")[3:22]"
   ]
  },
  {
   "cell_type": "code",
   "execution_count": 51,
   "metadata": {},
   "outputs": [],
   "source": [
    "almacen_links = [each.get('href') for each in almacen]"
   ]
  },
  {
   "cell_type": "code",
   "execution_count": 55,
   "metadata": {},
   "outputs": [
    {
     "data": {
      "text/plain": [
       "'https://dieteticarojas.com/almacen/aceites/'"
      ]
     },
     "execution_count": 55,
     "metadata": {},
     "output_type": "execute_result"
    }
   ],
   "source": [
    "almacen_links[1]"
   ]
  },
  {
   "cell_type": "code",
   "execution_count": 56,
   "metadata": {},
   "outputs": [],
   "source": [
    "aceites = BeautifulSoup(urlopen(almacen_links[0]).read().decode(\"utf-8\"), \"html.parser\")"
   ]
  },
  {
   "cell_type": "code",
   "execution_count": 59,
   "metadata": {},
   "outputs": [
    {
     "data": {
      "text/plain": [
       "<div class=\"js-item-product col-6 col-md-4 col-lg-3 item item-product\" data-component=\"product-list-item\" data-component-value=\"154810277\" data-product-id=\"154810277\" data-product-type=\"list\" data-store=\"product-item-154810277\">\n",
       "<div class=\"js-product-container js-quickshop-container position-relative\" data-variants='[{\"product_id\":154810277,\"price_short\":\"$900\",\"price_long\":\"$900 ARS\",\"price_number\":900,\"compare_at_price_short\":\"$950\",\"compare_at_price_long\":\"$950 ARS\",\"compare_at_price_number\":950,\"stock\":null,\"sku\":null,\"available\":true,\"contact\":false,\"option0\":null,\"option1\":null,\"option2\":null,\"id\":586594244,\"image\":430059969,\"image_url\":\"\\/\\/d3ugyf2ht6aenh.cloudfront.net\\/stores\\/001\\/172\\/573\\/products\\/chovibbq1-f8993f57f18a26c3f516749079437162-1024-1024.webp\",\"installments_data\":\"{\\\"mercadopago\\\":{\\\"1\\\":{\\\"installment_value\\\":900,\\\"installment_value_cents\\\":90000,\\\"interest\\\":0,\\\"total_value\\\":900,\\\"without_interests\\\":true},\\\"3\\\":{\\\"installment_value\\\":378.45,\\\"installment_value_cents\\\":37845,\\\"interest\\\":0.2615,\\\"total_value\\\":1135.35,\\\"without_interests\\\":false},\\\"6\\\":{\\\"installment_value\\\":222.525,\\\"installment_value_cents\\\":22252.5,\\\"interest\\\":0.4835,\\\"total_value\\\":1335.15,\\\"without_interests\\\":false},\\\"9\\\":{\\\"installment_value\\\":174.83,\\\"installment_value_cents\\\":17483,\\\"interest\\\":0.7483,\\\"total_value\\\":1573.47,\\\"without_interests\\\":false},\\\"12\\\":{\\\"installment_value\\\":152.9925,\\\"installment_value_cents\\\":15299.25,\\\"interest\\\":1.0399,\\\"total_value\\\":1835.91,\\\"without_interests\\\":false},\\\"18\\\":{\\\"installment_value\\\":132.65,\\\"installment_value_cents\\\":13265,\\\"interest\\\":1.653,\\\"total_value\\\":2387.7,\\\"without_interests\\\":false},\\\"24\\\":{\\\"installment_value\\\":124.72125,\\\"installment_value_cents\\\":12472.125,\\\"interest\\\":2.3259,\\\"total_value\\\":2993.31,\\\"without_interests\\\":false}}}\"}]' id=\"quick154810277\">\n",
       "<div class=\"item-image\">\n",
       "<div class=\"position-relative\" data-store=\"product-item-image-154810277\" style=\"padding-bottom: 100%;\">\n",
       "<a aria-label=\"SALSA BARBACOA -300gr-CHOVI\" href=\"https://dieteticarojas.com/productos/salsa-barbacoa-300gr-chovi/\" title=\"SALSA BARBACOA -300gr-CHOVI\">\n",
       "<img alt=\"SALSA BARBACOA -300gr-CHOVI\" class=\"js-item-image lazyautosizes lazyload img-absolute img-absolute-centered fade-in\" data-expand=\"-10\" data-srcset=\"//d3ugyf2ht6aenh.cloudfront.net/stores/001/172/573/products/chovibbq1-f8993f57f18a26c3f516749079437162-240-0.webp 240w, //d3ugyf2ht6aenh.cloudfront.net/stores/001/172/573/products/chovibbq1-f8993f57f18a26c3f516749079437162-320-0.webp 320w, //d3ugyf2ht6aenh.cloudfront.net/stores/001/172/573/products/chovibbq1-f8993f57f18a26c3f516749079437162-480-0.webp 480w\" height=\"500\" src=\"//d3ugyf2ht6aenh.cloudfront.net/assets/themes/amazonas/static/images/empty-placeholder.png?1362406718\" width=\"500\"/>\n",
       "<div class=\"placeholder-fade\">\n",
       "</div>\n",
       "</a>\n",
       "</div>\n",
       "<div class=\"labels\" data-store=\"product-item-labels\">\n",
       "<div class=\"js-offer-label label label-accent label-circle\" data-store=\"product-item-offer-label\">\n",
       "<span class=\"js-offer-percentage\">\n",
       "              5</span>% OFF\n",
       "                  </div>\n",
       "</div>\n",
       "<span class=\"hidden\" data-store=\"stock-product-154810277-infinite\"></span> </div>\n",
       "<div class=\"item-description py-4 px-1\" data-store=\"product-item-info-154810277\">\n",
       "<a aria-label=\"SALSA BARBACOA -300gr-CHOVI\" class=\"item-link\" href=\"https://dieteticarojas.com/productos/salsa-barbacoa-300gr-chovi/\" title=\"SALSA BARBACOA -300gr-CHOVI\">\n",
       "<div class=\"js-item-name item-name mb-3\" data-store=\"product-item-name-154810277\">SALSA BARBACOA -300gr-CHOVI</div>\n",
       "<div class=\"item-price-container mb-1\" data-store=\"product-item-price-154810277\">\n",
       "<span class=\"js-compare-price-display price-compare\" style=\"display:inline-block;\">\n",
       "                            $950\n",
       "                        </span>\n",
       "<span class=\"js-price-display item-price\">\n",
       "                            $900\n",
       "                        </span>\n",
       "</div>\n",
       "</a>\n",
       "<span class=\"js-max-installments-container js-max-installments item-installments\">\n",
       "</span>\n",
       "</div>\n",
       "<div class=\"item-actions row justify-content-center\">\n",
       "<div class=\"col-8 col-md-6 pr-1\">\n",
       "<form action=\"/comprar/\" class=\"js-product-form\" method=\"post\">\n",
       "<input name=\"add_to_cart\" type=\"hidden\" value=\"154810277\">\n",
       "<input class=\"js-addtocart js-prod-submit-form btn btn-primary btn-small w-100 mb-2 cart\" data-component=\"product-list-item.add-to-cart\" data-component-value=\"154810277\" type=\"submit\" value=\"Comprar\">\n",
       "<div class=\"js-addtocart js-addtocart-placeholder btn btn-primary btn-block btn-transition btn-small w-100 mb-2 disabled\" style=\"display: none;\">\n",
       "<div class=\"d-inline-block\">\n",
       "<span class=\"js-addtocart-text\">Comprar</span>\n",
       "<span class=\"js-addtocart-success transition-container btn-transition-success-small\">\n",
       "<svg class=\"icon-inline svg-icon-invert btn-transition-success-icon\" viewbox=\"0 0 512 512\"><path d=\"M256 8C119.033 8 8 119.033 8 256s111.033 248 248 248 248-111.033 248-248S392.967 8 256 8zm0 48c110.532 0 200 89.451 200 200 0 110.532-89.451 200-200 200-110.532 0-200-89.451-200-200 0-110.532 89.451-200 200-200m140.204 130.267l-22.536-22.718c-4.667-4.705-12.265-4.736-16.97-.068L215.346 303.697l-59.792-60.277c-4.667-4.705-12.265-4.736-16.97-.069l-22.719 22.536c-4.705 4.667-4.736 12.265-.068 16.971l90.781 91.516c4.667 4.705 12.265 4.736 16.97.068l172.589-171.204c4.704-4.668 4.734-12.266.067-16.971z\"></path></svg> </span>\n",
       "<div class=\"js-addtocart-adding transition-container transition-soft btn-transition-progress\">\n",
       "<div class=\"spinner-ellipsis invert\">\n",
       "<div class=\"point\"></div>\n",
       "<div class=\"point\"></div>\n",
       "<div class=\"point\"></div>\n",
       "<div class=\"point\"></div>\n",
       "</div>\n",
       "</div>\n",
       "</div>\n",
       "</div> </input></input></form>\n",
       "</div>\n",
       "<div class=\"col-4 col-md-6 pl-1\">\n",
       "<a aria-label=\"SALSA BARBACOA -300gr-CHOVI\" class=\"d-block btn btn-secondary btn-small\" href=\"https://dieteticarojas.com/productos/salsa-barbacoa-300gr-chovi/\" title=\"SALSA BARBACOA -300gr-CHOVI\"> <svg class=\"icon-inline svg-icon-primary\" viewbox=\"0 0 576 512\" xmlns=\"http://www.w3.org/2000/svg\"><path d=\"M288 288a64 64 0 0 0 0-128c-1 0-1.88.24-2.85.29a47.5 47.5 0 0 1-60.86 60.86c0 1-.29 1.88-.29 2.85a64 64 0 0 0 64 64zm284.52-46.6C518.29 135.59 410.93 64 288 64S57.68 135.64 3.48 241.41a32.35 32.35 0 0 0 0 29.19C57.71 376.41 165.07 448 288 448s230.32-71.64 284.52-177.41a32.35 32.35 0 0 0 0-29.19zM288 96a128 128 0 1 1-128 128A128.14 128.14 0 0 1 288 96zm0 320c-107.36 0-205.46-61.31-256-160a294.78 294.78 0 0 1 129.78-129.33C140.91 153.69 128 187.17 128 224a160 160 0 0 0 320 0c0-36.83-12.91-70.31-33.78-97.33A294.78 294.78 0 0 1 544 256c-50.53 98.69-148.64 160-256 160z\"></path></svg>\n",
       "<span class=\"d-none d-md-inline-block\">Ver</span></a>\n",
       "</div>\n",
       "</div>\n",
       "</div>\n",
       "<script type=\"application/ld+json\">\n",
       "{\n",
       "    \"@context\": \"https://schema.org/\",\n",
       "    \"@type\": \"Product\",\n",
       "    \"mainEntityOfPage\": {\n",
       "        \"@type\": \"WebPage\",\n",
       "        \"@id\": \"https://dieteticarojas.com/productos/salsa-barbacoa-300gr-chovi/\"\n",
       "    },\n",
       "    \"name\": \"SALSA BARBACOA -300gr-CHOVI\",\n",
       "    \"image\": \"https://d3ugyf2ht6aenh.cloudfront.net/stores/001/172/573/products/chovibbq1-f8993f57f18a26c3f516749079437162-480-0.webp\",\n",
       "    \"description\": \"Comprá online SALSA BARBACOA -300gr-CHOVI por $900. Hacé tu pedido y pagalo online.\",\n",
       "                \"brand\": {\n",
       "            \"@type\": \"Thing\",\n",
       "            \"name\": \"CHOVI\"\n",
       "        },\n",
       "                \"weight\": {\n",
       "            \"@type\": \"QuantitativeValue\",\n",
       "            \"unitCode\": \"KGM\",\n",
       "            \"value\": \"0.3000\"\n",
       "        },\n",
       "        \"offers\": {\n",
       "        \"@type\": \"Offer\",\n",
       "        \"url\": \"https://dieteticarojas.com/productos/salsa-barbacoa-300gr-chovi/\",\n",
       "        \"priceCurrency\": \"ARS\",\n",
       "        \"price\": \"900\",\n",
       "                \"seller\": {\n",
       "            \"@type\": \"Organization\",\n",
       "            \"name\": \"Dietetica Rojas | Tienda Online\"\n",
       "        }\n",
       "    }\n",
       "}\n",
       "</script>\n",
       "</div>"
      ]
     },
     "execution_count": 59,
     "metadata": {},
     "output_type": "execute_result"
    }
   ],
   "source": [
    "aceites.find_all(\"div\", class_=\"js-item-product\")"
   ]
  }
 ],
 "metadata": {
  "kernelspec": {
   "display_name": "Python 3",
   "language": "python",
   "name": "python3"
  },
  "language_info": {
   "codemirror_mode": {
    "name": "ipython",
    "version": 3
   },
   "file_extension": ".py",
   "mimetype": "text/x-python",
   "name": "python",
   "nbconvert_exporter": "python",
   "pygments_lexer": "ipython3",
   "version": "3.10.6 (main, Nov 14 2022, 16:10:14) [GCC 11.3.0]"
  },
  "orig_nbformat": 4,
  "vscode": {
   "interpreter": {
    "hash": "916dbcbb3f70747c44a77c7bcd40155683ae19c65e1c03b4aa3499c5328201f1"
   }
  }
 },
 "nbformat": 4,
 "nbformat_minor": 2
}
