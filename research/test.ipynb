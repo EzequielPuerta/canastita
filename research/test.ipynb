{
 "cells": [
  {
   "cell_type": "code",
   "execution_count": 41,
   "metadata": {},
   "outputs": [],
   "source": [
    "import re"
   ]
  },
  {
   "cell_type": "code",
   "execution_count": 30,
   "metadata": {},
   "outputs": [],
   "source": [
    "from bs4 import BeautifulSoup\n",
    "from urllib.request import urlopen\n",
    "\n",
    "def scrap(url):\n",
    "    return BeautifulSoup(urlopen(url).read().decode(\"utf-8\"), \"html.parser\")\n",
    "\n",
    "url = \"https://dieteticarojas.com\"\n",
    "soup = scrap(url)"
   ]
  },
  {
   "cell_type": "code",
   "execution_count": 31,
   "metadata": {},
   "outputs": [],
   "source": [
    "almacen = soup.find_all(\"a\", class_=\"nav-list-link\")[3:22]"
   ]
  },
  {
   "cell_type": "code",
   "execution_count": 56,
   "metadata": {},
   "outputs": [
    {
     "data": {
      "text/plain": [
       "[<a class=\"nav-list-link selected\" href=\"/\">Inicio</a>,\n",
       " <a class=\"nav-list-link\" href=\"https://dieteticarojas.com/productos/\">Productos\n",
       " \t\t            \t\t\t            <span class=\"nav-list-arrow transition-soft\">\n",
       " <svg class=\"icon-inline icon-md\" viewbox=\"0 0 448 512\" xmlns=\"http://www.w3.org/2000/svg\"><path d=\"M441.9 167.3l-19.8-19.8c-4.7-4.7-12.3-4.7-17 0L224 328.2 42.9 147.5c-4.7-4.7-12.3-4.7-17 0L6.1 167.3c-4.7 4.7-4.7 12.3 0 17l209.4 209.4c4.7 4.7 12.3 4.7 17 0l209.4-209.4c4.7-4.7 4.7-12.3 0-17z\"></path></svg>\n",
       " </span>\n",
       " </a>,\n",
       " <a class=\"nav-list-link\" href=\"https://dieteticarojas.com/almacen/\">Almacen\n",
       " \t\t            \t        \t</a>,\n",
       " <a class=\"nav-list-link\" href=\"https://dieteticarojas.com/almacen/conservas-y-embutidos/\">Conservas y Embutidos</a>,\n",
       " <a class=\"nav-list-link\" href=\"https://dieteticarojas.com/almacen/aceites/\">Aceites</a>,\n",
       " <a class=\"nav-list-link\" href=\"https://dieteticarojas.com/almacen/especias-y-condimentos/\">Aderezos</a>,\n",
       " <a class=\"nav-list-link\" href=\"https://dieteticarojas.com/almacen/pastas/\">Azucar &amp; Edulcorantes</a>,\n",
       " <a class=\"nav-list-link\" href=\"https://dieteticarojas.com/almacen/postres/\">Caldos &amp; Sopas</a>,\n",
       " <a class=\"nav-list-link\" href=\"https://dieteticarojas.com/almacen/galletitas-snacks-cereales/\">Galletitas, Snacks, y Cereales</a>,\n",
       " <a class=\"nav-list-link\" href=\"https://dieteticarojas.com/almacen/mermelada-dulces/\">Mermeladas &amp; Dulces</a>,\n",
       " <a class=\"nav-list-link\" href=\"https://dieteticarojas.com/almacen/fideos/\">Fideos</a>,\n",
       " <a class=\"nav-list-link\" href=\"https://dieteticarojas.com/almacen/panificados/\">Panificados</a>,\n",
       " <a class=\"nav-list-link\" href=\"https://dieteticarojas.com/almacen/te-hiervas-infusiones/\">Te , Yerbas e Infusiones</a>,\n",
       " <a class=\"nav-list-link\" href=\"https://dieteticarojas.com/almacen/yogur/\">Yogur</a>,\n",
       " <a class=\"nav-list-link\" href=\"https://dieteticarojas.com/almacen/miel/\">Miel</a>,\n",
       " <a class=\"nav-list-link\" href=\"https://dieteticarojas.com/almacen/harinas-y-premezclas/\">Harinas y Premezclas</a>,\n",
       " <a class=\"nav-list-link\" href=\"https://dieteticarojas.com/almacen/arroz-y-legumbres/\">Arroz y Legumbres </a>,\n",
       " <a class=\"nav-list-link\" href=\"https://dieteticarojas.com/almacen/reposteria/\">Reposteria </a>,\n",
       " <a class=\"nav-list-link\" href=\"https://dieteticarojas.com/almacen/pan-rallado-y-rebozadores/\">Pan rallado y Rebozadores</a>,\n",
       " <a class=\"nav-list-link\" href=\"https://dieteticarojas.com/almacen/conservas/\">Conservas </a>,\n",
       " <a class=\"nav-list-link\" href=\"https://dieteticarojas.com/almacen/condimentos-y-especias/\">Condimentos y Especias</a>,\n",
       " <a class=\"nav-list-link\" href=\"https://dieteticarojas.com/almacen/chocolates-y-golosinas/\">Chocolates y Golosinas</a>,\n",
       " <a class=\"nav-list-link\" href=\"https://dieteticarojas.com/productos-a-granel/\">Productos a granel\n",
       " \t\t            \t        \t</a>,\n",
       " <a class=\"nav-list-link\" href=\"https://dieteticarojas.com/productos-a-granel/legumbres/\">Legumbres </a>,\n",
       " <a class=\"nav-list-link\" href=\"https://dieteticarojas.com/productos-a-granel/cereales/\">Cereales</a>,\n",
       " <a class=\"nav-list-link\" href=\"https://dieteticarojas.com/productos-a-granel/frutas-secas/\">Frutas secas</a>,\n",
       " <a class=\"nav-list-link\" href=\"https://dieteticarojas.com/productos-a-granel/granolas/\">Granolas</a>,\n",
       " <a class=\"nav-list-link\" href=\"https://dieteticarojas.com/productos-a-granel/condimentos-especias/\">Condimentos y especias</a>,\n",
       " <a class=\"nav-list-link\" href=\"https://dieteticarojas.com/productos-a-granel/semillas/\">Semillas</a>,\n",
       " <a class=\"nav-list-link\" href=\"https://dieteticarojas.com/productos-a-granel/harinas-y-premezclas1/\">Harinas y Premezclas</a>,\n",
       " <a class=\"nav-list-link\" href=\"https://dieteticarojas.com/productos-a-granel/herboristeria/\">Herboristeria</a>,\n",
       " <a class=\"nav-list-link\" href=\"https://dieteticarojas.com/salud-y-belleza/\">Salud y Belleza\n",
       " \t\t            \t        \t</a>,\n",
       " <a class=\"nav-list-link\" href=\"https://dieteticarojas.com/salud-y-belleza/cuidado-personal/\">Cuidado personal</a>,\n",
       " <a class=\"nav-list-link\" href=\"https://dieteticarojas.com/salud-y-belleza/suplementos-dietarios/\">Suplementos dietarios</a>,\n",
       " <a class=\"nav-list-link\" href=\"https://dieteticarojas.com/salud-y-belleza/shampoo-y-acondicionadores/\">Shampoo y acondicionadores</a>,\n",
       " <a class=\"nav-list-link\" href=\"https://dieteticarojas.com/salud-y-belleza/apto-diabeticos/\">Cosmética</a>,\n",
       " <a class=\"nav-list-link\" href=\"https://dieteticarojas.com/salud-y-belleza/tintura-madre/\">Tintura madre</a>,\n",
       " <a class=\"nav-list-link\" href=\"https://dieteticarojas.com/salud-y-belleza/aceites-esenciales/\">Aceites esenciales</a>,\n",
       " <a class=\"nav-list-link\" href=\"https://dieteticarojas.com/frescos-y-congelados/\">Frescos y Congelados\n",
       " \t\t            \t        \t</a>,\n",
       " <a class=\"nav-list-link\" href=\"https://dieteticarojas.com/frescos-y-congelados/quesos/\">Quesos</a>,\n",
       " <a class=\"nav-list-link\" href=\"https://dieteticarojas.com/frescos-y-congelados/pizzas-y-empanadas/\">Pizzas y Empanadas</a>,\n",
       " <a class=\"nav-list-link\" href=\"https://dieteticarojas.com/frescos-y-congelados/otros1/\">Otros</a>,\n",
       " <a class=\"nav-list-link\" href=\"https://dieteticarojas.com/frescos-y-congelados/quesos-y-embutidos/\">Quesos y Embutidos</a>,\n",
       " <a class=\"nav-list-link\" href=\"https://dieteticarojas.com/frescos-y-congelados/hamburguesas-y-milanesas/\">Hamburguesas y Milanesas</a>,\n",
       " <a class=\"nav-list-link\" href=\"https://dieteticarojas.com/frescos-y-congelados/pastas-frescas/\">Pastas Frescas</a>,\n",
       " <a class=\"nav-list-link\" href=\"https://dieteticarojas.com/bebidas-e-infusiones/\">Bebidas e Infusiones\n",
       " \t\t            \t        \t</a>,\n",
       " <a class=\"nav-list-link\" href=\"https://dieteticarojas.com/bebidas-e-infusiones/jugos/\">Jugos</a>,\n",
       " <a class=\"nav-list-link\" href=\"https://dieteticarojas.com/bebidas-e-infusiones/leche/\">Leche</a>,\n",
       " <a class=\"nav-list-link\" href=\"https://dieteticarojas.com/bebidas-e-infusiones/otros/\">Otros</a>,\n",
       " <a class=\"nav-list-link\" href=\"https://dieteticarojas.com/apto-veganos/\">Apto vegano</a>,\n",
       " <a class=\"nav-list-link\" href=\"https://dieteticarojas.com/apto-diabetico/\">Apto Diabético</a>,\n",
       " <a class=\"nav-list-link\" href=\"https://dieteticarojas.com/aceites-esenciales1/\">Aceites esenciales</a>,\n",
       " <a class=\"nav-list-link\" href=\"https://dieteticarojas.com/frutas/\">Frutas</a>,\n",
       " <a class=\"nav-list-link\" href=\"https://dieteticarojas.com/productos-organicos/\">Productos Organicos</a>,\n",
       " <a class=\"nav-list-link\" href=\"https://dieteticarojas.com/snacks/\">Snacks</a>,\n",
       " <a class=\"nav-list-link\" href=\"https://dieteticarojas.com/productos-sin-gluten/\">Productos Sin Gluten</a>,\n",
       " <a class=\"nav-list-link\" href=\"https://dieteticarojas.com/como-comprar/\">Cómo Comprar</a>,\n",
       " <a class=\"nav-list-link\" href=\"https://dieteticarojas.com/quienes-somos/\">Quiénes Somos</a>,\n",
       " <a class=\"nav-list-link\" href=\"https://dieteticarojas.com/sucursales/\">Sucursales</a>,\n",
       " <a class=\"nav-list-link\" href=\"/contacto/\">Contacto</a>,\n",
       " <a class=\"nav-list-link selected\" href=\"/\">Inicio</a>,\n",
       " <a class=\"js-toggle-page-accordion nav-list-link\" href=\"#\">Productos\n",
       " \t\t            \t\t\t            <span class=\"nav-list-arrow transition-soft\">\n",
       " <svg class=\"icon-inline icon-md\" viewbox=\"0 0 448 512\" xmlns=\"http://www.w3.org/2000/svg\"><path d=\"M441.9 167.3l-19.8-19.8c-4.7-4.7-12.3-4.7-17 0L224 328.2 42.9 147.5c-4.7-4.7-12.3-4.7-17 0L6.1 167.3c-4.7 4.7-4.7 12.3 0 17l209.4 209.4c4.7 4.7 12.3 4.7 17 0l209.4-209.4c4.7-4.7 4.7-12.3 0-17z\"></path></svg>\n",
       " </span>\n",
       " </a>,\n",
       " <a class=\"nav-list-link\" href=\"https://dieteticarojas.com/productos/\">\n",
       " <strong>\n",
       " \t\t\t\t\t\t\t\t\t\t\t\t\t\t\t\t\t\t\tVer todos los productos\n",
       " \t\t\t\t\t\t\t\t\t\t\t\t\t\t\t\t\t</strong>\n",
       " </a>,\n",
       " <a class=\"js-toggle-page-accordion nav-list-link\" href=\"#\">Almacen\n",
       " \t\t            \t\t\t            <span class=\"nav-list-arrow transition-soft\">\n",
       " <svg class=\"icon-inline icon-md\" viewbox=\"0 0 448 512\" xmlns=\"http://www.w3.org/2000/svg\"><path d=\"M441.9 167.3l-19.8-19.8c-4.7-4.7-12.3-4.7-17 0L224 328.2 42.9 147.5c-4.7-4.7-12.3-4.7-17 0L6.1 167.3c-4.7 4.7-4.7 12.3 0 17l209.4 209.4c4.7 4.7 12.3 4.7 17 0l209.4-209.4c4.7-4.7 4.7-12.3 0-17z\"></path></svg>\n",
       " </span>\n",
       " </a>,\n",
       " <a class=\"nav-list-link\" href=\"https://dieteticarojas.com/almacen/\">\n",
       " <strong>\n",
       " \t\t\t\t\t\t\t\t\t\t\t\t\t\t\t\t\t\t\tVer todo en Almacen\n",
       " \t\t\t\t\t\t\t\t\t\t\t\t\t\t\t\t\t</strong>\n",
       " </a>,\n",
       " <a class=\"nav-list-link\" href=\"https://dieteticarojas.com/almacen/conservas-y-embutidos/\">Conservas y Embutidos</a>,\n",
       " <a class=\"nav-list-link\" href=\"https://dieteticarojas.com/almacen/aceites/\">Aceites</a>,\n",
       " <a class=\"nav-list-link\" href=\"https://dieteticarojas.com/almacen/especias-y-condimentos/\">Aderezos</a>,\n",
       " <a class=\"nav-list-link\" href=\"https://dieteticarojas.com/almacen/pastas/\">Azucar &amp; Edulcorantes</a>,\n",
       " <a class=\"nav-list-link\" href=\"https://dieteticarojas.com/almacen/postres/\">Caldos &amp; Sopas</a>,\n",
       " <a class=\"nav-list-link\" href=\"https://dieteticarojas.com/almacen/galletitas-snacks-cereales/\">Galletitas, Snacks, y Cereales</a>,\n",
       " <a class=\"nav-list-link\" href=\"https://dieteticarojas.com/almacen/mermelada-dulces/\">Mermeladas &amp; Dulces</a>,\n",
       " <a class=\"nav-list-link\" href=\"https://dieteticarojas.com/almacen/fideos/\">Fideos</a>,\n",
       " <a class=\"nav-list-link\" href=\"https://dieteticarojas.com/almacen/panificados/\">Panificados</a>,\n",
       " <a class=\"nav-list-link\" href=\"https://dieteticarojas.com/almacen/te-hiervas-infusiones/\">Te , Yerbas e Infusiones</a>,\n",
       " <a class=\"nav-list-link\" href=\"https://dieteticarojas.com/almacen/yogur/\">Yogur</a>,\n",
       " <a class=\"nav-list-link\" href=\"https://dieteticarojas.com/almacen/miel/\">Miel</a>,\n",
       " <a class=\"nav-list-link\" href=\"https://dieteticarojas.com/almacen/harinas-y-premezclas/\">Harinas y Premezclas</a>,\n",
       " <a class=\"nav-list-link\" href=\"https://dieteticarojas.com/almacen/arroz-y-legumbres/\">Arroz y Legumbres </a>,\n",
       " <a class=\"nav-list-link\" href=\"https://dieteticarojas.com/almacen/reposteria/\">Reposteria </a>,\n",
       " <a class=\"nav-list-link\" href=\"https://dieteticarojas.com/almacen/pan-rallado-y-rebozadores/\">Pan rallado y Rebozadores</a>,\n",
       " <a class=\"nav-list-link\" href=\"https://dieteticarojas.com/almacen/conservas/\">Conservas </a>,\n",
       " <a class=\"nav-list-link\" href=\"https://dieteticarojas.com/almacen/condimentos-y-especias/\">Condimentos y Especias</a>,\n",
       " <a class=\"nav-list-link\" href=\"https://dieteticarojas.com/almacen/chocolates-y-golosinas/\">Chocolates y Golosinas</a>,\n",
       " <a class=\"js-toggle-page-accordion nav-list-link\" href=\"#\">Productos a granel\n",
       " \t\t            \t\t\t            <span class=\"nav-list-arrow transition-soft\">\n",
       " <svg class=\"icon-inline icon-md\" viewbox=\"0 0 448 512\" xmlns=\"http://www.w3.org/2000/svg\"><path d=\"M441.9 167.3l-19.8-19.8c-4.7-4.7-12.3-4.7-17 0L224 328.2 42.9 147.5c-4.7-4.7-12.3-4.7-17 0L6.1 167.3c-4.7 4.7-4.7 12.3 0 17l209.4 209.4c4.7 4.7 12.3 4.7 17 0l209.4-209.4c4.7-4.7 4.7-12.3 0-17z\"></path></svg>\n",
       " </span>\n",
       " </a>,\n",
       " <a class=\"nav-list-link\" href=\"https://dieteticarojas.com/productos-a-granel/\">\n",
       " <strong>\n",
       " \t\t\t\t\t\t\t\t\t\t\t\t\t\t\t\t\t\t\tVer todo en Productos a granel\n",
       " \t\t\t\t\t\t\t\t\t\t\t\t\t\t\t\t\t</strong>\n",
       " </a>,\n",
       " <a class=\"nav-list-link\" href=\"https://dieteticarojas.com/productos-a-granel/legumbres/\">Legumbres </a>,\n",
       " <a class=\"nav-list-link\" href=\"https://dieteticarojas.com/productos-a-granel/cereales/\">Cereales</a>,\n",
       " <a class=\"nav-list-link\" href=\"https://dieteticarojas.com/productos-a-granel/frutas-secas/\">Frutas secas</a>,\n",
       " <a class=\"nav-list-link\" href=\"https://dieteticarojas.com/productos-a-granel/granolas/\">Granolas</a>,\n",
       " <a class=\"nav-list-link\" href=\"https://dieteticarojas.com/productos-a-granel/condimentos-especias/\">Condimentos y especias</a>,\n",
       " <a class=\"nav-list-link\" href=\"https://dieteticarojas.com/productos-a-granel/semillas/\">Semillas</a>,\n",
       " <a class=\"nav-list-link\" href=\"https://dieteticarojas.com/productos-a-granel/harinas-y-premezclas1/\">Harinas y Premezclas</a>,\n",
       " <a class=\"nav-list-link\" href=\"https://dieteticarojas.com/productos-a-granel/herboristeria/\">Herboristeria</a>,\n",
       " <a class=\"js-toggle-page-accordion nav-list-link\" href=\"#\">Salud y Belleza\n",
       " \t\t            \t\t\t            <span class=\"nav-list-arrow transition-soft\">\n",
       " <svg class=\"icon-inline icon-md\" viewbox=\"0 0 448 512\" xmlns=\"http://www.w3.org/2000/svg\"><path d=\"M441.9 167.3l-19.8-19.8c-4.7-4.7-12.3-4.7-17 0L224 328.2 42.9 147.5c-4.7-4.7-12.3-4.7-17 0L6.1 167.3c-4.7 4.7-4.7 12.3 0 17l209.4 209.4c4.7 4.7 12.3 4.7 17 0l209.4-209.4c4.7-4.7 4.7-12.3 0-17z\"></path></svg>\n",
       " </span>\n",
       " </a>,\n",
       " <a class=\"nav-list-link\" href=\"https://dieteticarojas.com/salud-y-belleza/\">\n",
       " <strong>\n",
       " \t\t\t\t\t\t\t\t\t\t\t\t\t\t\t\t\t\t\tVer todo en Salud y Belleza\n",
       " \t\t\t\t\t\t\t\t\t\t\t\t\t\t\t\t\t</strong>\n",
       " </a>,\n",
       " <a class=\"nav-list-link\" href=\"https://dieteticarojas.com/salud-y-belleza/cuidado-personal/\">Cuidado personal</a>,\n",
       " <a class=\"nav-list-link\" href=\"https://dieteticarojas.com/salud-y-belleza/suplementos-dietarios/\">Suplementos dietarios</a>,\n",
       " <a class=\"nav-list-link\" href=\"https://dieteticarojas.com/salud-y-belleza/shampoo-y-acondicionadores/\">Shampoo y acondicionadores</a>,\n",
       " <a class=\"nav-list-link\" href=\"https://dieteticarojas.com/salud-y-belleza/apto-diabeticos/\">Cosmética</a>,\n",
       " <a class=\"nav-list-link\" href=\"https://dieteticarojas.com/salud-y-belleza/tintura-madre/\">Tintura madre</a>,\n",
       " <a class=\"nav-list-link\" href=\"https://dieteticarojas.com/salud-y-belleza/aceites-esenciales/\">Aceites esenciales</a>,\n",
       " <a class=\"js-toggle-page-accordion nav-list-link\" href=\"#\">Frescos y Congelados\n",
       " \t\t            \t\t\t            <span class=\"nav-list-arrow transition-soft\">\n",
       " <svg class=\"icon-inline icon-md\" viewbox=\"0 0 448 512\" xmlns=\"http://www.w3.org/2000/svg\"><path d=\"M441.9 167.3l-19.8-19.8c-4.7-4.7-12.3-4.7-17 0L224 328.2 42.9 147.5c-4.7-4.7-12.3-4.7-17 0L6.1 167.3c-4.7 4.7-4.7 12.3 0 17l209.4 209.4c4.7 4.7 12.3 4.7 17 0l209.4-209.4c4.7-4.7 4.7-12.3 0-17z\"></path></svg>\n",
       " </span>\n",
       " </a>,\n",
       " <a class=\"nav-list-link\" href=\"https://dieteticarojas.com/frescos-y-congelados/\">\n",
       " <strong>\n",
       " \t\t\t\t\t\t\t\t\t\t\t\t\t\t\t\t\t\t\tVer todo en Frescos y Congelados\n",
       " \t\t\t\t\t\t\t\t\t\t\t\t\t\t\t\t\t</strong>\n",
       " </a>,\n",
       " <a class=\"nav-list-link\" href=\"https://dieteticarojas.com/frescos-y-congelados/quesos/\">Quesos</a>,\n",
       " <a class=\"nav-list-link\" href=\"https://dieteticarojas.com/frescos-y-congelados/pizzas-y-empanadas/\">Pizzas y Empanadas</a>,\n",
       " <a class=\"nav-list-link\" href=\"https://dieteticarojas.com/frescos-y-congelados/otros1/\">Otros</a>,\n",
       " <a class=\"nav-list-link\" href=\"https://dieteticarojas.com/frescos-y-congelados/quesos-y-embutidos/\">Quesos y Embutidos</a>,\n",
       " <a class=\"nav-list-link\" href=\"https://dieteticarojas.com/frescos-y-congelados/hamburguesas-y-milanesas/\">Hamburguesas y Milanesas</a>,\n",
       " <a class=\"nav-list-link\" href=\"https://dieteticarojas.com/frescos-y-congelados/pastas-frescas/\">Pastas Frescas</a>,\n",
       " <a class=\"js-toggle-page-accordion nav-list-link\" href=\"#\">Bebidas e Infusiones\n",
       " \t\t            \t\t\t            <span class=\"nav-list-arrow transition-soft\">\n",
       " <svg class=\"icon-inline icon-md\" viewbox=\"0 0 448 512\" xmlns=\"http://www.w3.org/2000/svg\"><path d=\"M441.9 167.3l-19.8-19.8c-4.7-4.7-12.3-4.7-17 0L224 328.2 42.9 147.5c-4.7-4.7-12.3-4.7-17 0L6.1 167.3c-4.7 4.7-4.7 12.3 0 17l209.4 209.4c4.7 4.7 12.3 4.7 17 0l209.4-209.4c4.7-4.7 4.7-12.3 0-17z\"></path></svg>\n",
       " </span>\n",
       " </a>,\n",
       " <a class=\"nav-list-link\" href=\"https://dieteticarojas.com/bebidas-e-infusiones/\">\n",
       " <strong>\n",
       " \t\t\t\t\t\t\t\t\t\t\t\t\t\t\t\t\t\t\tVer todo en Bebidas e Infusiones\n",
       " \t\t\t\t\t\t\t\t\t\t\t\t\t\t\t\t\t</strong>\n",
       " </a>,\n",
       " <a class=\"nav-list-link\" href=\"https://dieteticarojas.com/bebidas-e-infusiones/jugos/\">Jugos</a>,\n",
       " <a class=\"nav-list-link\" href=\"https://dieteticarojas.com/bebidas-e-infusiones/leche/\">Leche</a>,\n",
       " <a class=\"nav-list-link\" href=\"https://dieteticarojas.com/bebidas-e-infusiones/otros/\">Otros</a>,\n",
       " <a class=\"nav-list-link\" href=\"https://dieteticarojas.com/apto-veganos/\">Apto vegano</a>,\n",
       " <a class=\"nav-list-link\" href=\"https://dieteticarojas.com/apto-diabetico/\">Apto Diabético</a>,\n",
       " <a class=\"nav-list-link\" href=\"https://dieteticarojas.com/aceites-esenciales1/\">Aceites esenciales</a>,\n",
       " <a class=\"nav-list-link\" href=\"https://dieteticarojas.com/frutas/\">Frutas</a>,\n",
       " <a class=\"nav-list-link\" href=\"https://dieteticarojas.com/productos-organicos/\">Productos Organicos</a>,\n",
       " <a class=\"nav-list-link\" href=\"https://dieteticarojas.com/snacks/\">Snacks</a>,\n",
       " <a class=\"nav-list-link\" href=\"https://dieteticarojas.com/productos-sin-gluten/\">Productos Sin Gluten</a>,\n",
       " <a class=\"nav-list-link\" href=\"https://dieteticarojas.com/como-comprar/\">Cómo Comprar</a>,\n",
       " <a class=\"nav-list-link\" href=\"https://dieteticarojas.com/quienes-somos/\">Quiénes Somos</a>,\n",
       " <a class=\"nav-list-link\" href=\"https://dieteticarojas.com/sucursales/\">Sucursales</a>,\n",
       " <a class=\"nav-list-link\" href=\"/contacto/\">Contacto</a>]"
      ]
     },
     "execution_count": 56,
     "metadata": {},
     "output_type": "execute_result"
    }
   ],
   "source": [
    "soup.find_all(\"a\", class_=\"nav-list-link\")"
   ]
  },
  {
   "cell_type": "code",
   "execution_count": 32,
   "metadata": {},
   "outputs": [],
   "source": [
    "almacen_links = [each.get('href') for each in almacen]"
   ]
  },
  {
   "cell_type": "code",
   "execution_count": 33,
   "metadata": {},
   "outputs": [
    {
     "data": {
      "text/plain": [
       "'https://dieteticarojas.com/almacen/aceites/'"
      ]
     },
     "execution_count": 33,
     "metadata": {},
     "output_type": "execute_result"
    }
   ],
   "source": [
    "almacen_links[1]"
   ]
  },
  {
   "cell_type": "code",
   "execution_count": 34,
   "metadata": {},
   "outputs": [],
   "source": [
    "aceites = scrap(almacen_links[1])"
   ]
  },
  {
   "cell_type": "code",
   "execution_count": 37,
   "metadata": {},
   "outputs": [],
   "source": [
    "aceite_zuelo_item = aceites.find_all(\"div\", class_=\"item-image\")[0].find('a')"
   ]
  },
  {
   "cell_type": "code",
   "execution_count": 38,
   "metadata": {},
   "outputs": [],
   "source": [
    "aceite_zuelo = scrap(aceite_zuelo_item.get('href'))"
   ]
  },
  {
   "cell_type": "code",
   "execution_count": 43,
   "metadata": {},
   "outputs": [],
   "source": [
    "aceite_zuelo_data = aceite_zuelo.find('div', attrs={\"data-store\" : re.compile(\"product-info-\")})"
   ]
  },
  {
   "cell_type": "code",
   "execution_count": 46,
   "metadata": {},
   "outputs": [],
   "source": [
    "aceite_zuelo_name = aceite_zuelo_data.find('h1').string"
   ]
  },
  {
   "cell_type": "code",
   "execution_count": 52,
   "metadata": {},
   "outputs": [],
   "source": [
    "aceite_zuelo_precio_raw = aceite_zuelo_data.find('div', class_=\"price-container\").find('h2').get('data-product-price')\n",
    "aceite_zuelo_precio_display = aceite_zuelo_data.find('div', class_=\"price-container\").find('h2').string"
   ]
  },
  {
   "cell_type": "code",
   "execution_count": 54,
   "metadata": {},
   "outputs": [
    {
     "data": {
      "text/plain": [
       "'$2.450'"
      ]
     },
     "execution_count": 54,
     "metadata": {},
     "output_type": "execute_result"
    }
   ],
   "source": [
    "aceite_zuelo_precio_display"
   ]
  },
  {
   "cell_type": "code",
   "execution_count": 57,
   "metadata": {},
   "outputs": [],
   "source": [
    "frescos = scrap('https://dieteticarojas.com/frescos-y-congelados/')"
   ]
  },
  {
   "cell_type": "code",
   "execution_count": 58,
   "metadata": {},
   "outputs": [
    {
     "data": {
      "text/plain": [
       "[<div class=\"item-image\">\n",
       " <div class=\"position-relative\" data-store=\"product-item-image-51672087\" style=\"padding-bottom: 104.16666666667%;\">\n",
       " <a aria-label=\"TOFU 350GR SOYANA\" href=\"https://dieteticarojas.com/productos/tofu-350gr-soyana/\" title=\"TOFU 350GR SOYANA\">\n",
       " <img alt=\"TOFU 350GR SOYANA\" class=\"js-item-image lazyautosizes lazyload img-absolute img-absolute-centered fade-in\" data-expand=\"-10\" data-srcset=\"//d3ugyf2ht6aenh.cloudfront.net/stores/001/172/573/products/d_nq_np_908467-mla32019961783_082019-o1-043a6caee0f325c13e15900802078420-240-0.webp 240w, //d3ugyf2ht6aenh.cloudfront.net/stores/001/172/573/products/d_nq_np_908467-mla32019961783_082019-o1-043a6caee0f325c13e15900802078420-320-0.webp 320w, //d3ugyf2ht6aenh.cloudfront.net/stores/001/172/573/products/d_nq_np_908467-mla32019961783_082019-o1-043a6caee0f325c13e15900802078420-480-0.webp 480w\" height=\"500\" src=\"//d3ugyf2ht6aenh.cloudfront.net/assets/themes/amazonas/static/images/empty-placeholder.png?580426362\" width=\"480\"/>\n",
       " <div class=\"placeholder-fade\">\n",
       " </div>\n",
       " </a>\n",
       " </div>\n",
       " <div class=\"labels\" data-store=\"product-item-labels\">\n",
       " </div>\n",
       " <span class=\"hidden\" data-store=\"stock-product-51672087-infinite\"></span> </div>,\n",
       " <div class=\"item-image\">\n",
       " <div class=\"position-relative\" data-store=\"product-item-image-155539199\" style=\"padding-bottom: 100%;\">\n",
       " <a aria-label=\"TAU HOUSE OF TOFU 500GR\" href=\"https://dieteticarojas.com/productos/tau-house-of-tofu-500gr/\" title=\"TAU HOUSE OF TOFU 500GR\">\n",
       " <img alt=\"TAU HOUSE OF TOFU 500GR\" class=\"js-item-image lazyautosizes lazyload img-absolute img-absolute-centered fade-in\" data-expand=\"-10\" data-srcset=\"//d3ugyf2ht6aenh.cloudfront.net/stores/001/172/573/products/inshot_20230202_0915586411-273346d28b7a3f559716753405431215-240-0.webp 240w, //d3ugyf2ht6aenh.cloudfront.net/stores/001/172/573/products/inshot_20230202_0915586411-273346d28b7a3f559716753405431215-320-0.webp 320w, //d3ugyf2ht6aenh.cloudfront.net/stores/001/172/573/products/inshot_20230202_0915586411-273346d28b7a3f559716753405431215-480-0.webp 480w\" height=\"3072\" src=\"//d3ugyf2ht6aenh.cloudfront.net/assets/themes/amazonas/static/images/empty-placeholder.png?580426362\" width=\"3072\"/>\n",
       " <div class=\"placeholder-fade\">\n",
       " </div>\n",
       " </a>\n",
       " </div>\n",
       " <div class=\"labels\" data-store=\"product-item-labels\">\n",
       " </div>\n",
       " <span class=\"hidden\" data-store=\"stock-product-155539199-infinite\"></span> </div>,\n",
       " <div class=\"item-image\">\n",
       " <div class=\"position-relative\" data-store=\"product-item-image-152634369\" style=\"padding-bottom: 100%;\">\n",
       " <a aria-label=\"CHIA LIMON Y JENGIBRE 910ML CHIA GRAAL.\" href=\"https://dieteticarojas.com/productos/chia-limon-y-jengibre-910ml-chia-graal/\" title=\"CHIA LIMON Y JENGIBRE 910ML CHIA GRAAL.\">\n",
       " <img alt=\"CHIA LIMON Y JENGIBRE 910ML CHIA GRAAL.\" class=\"js-item-image lazyautosizes lazyload img-absolute img-absolute-centered fade-in\" data-expand=\"-10\" data-srcset=\"//d3ugyf2ht6aenh.cloudfront.net/stores/001/172/573/products/inshot_20230113_0913468921-879d780cdd5bd3646216736120980099-240-0.webp 240w, //d3ugyf2ht6aenh.cloudfront.net/stores/001/172/573/products/inshot_20230113_0913468921-879d780cdd5bd3646216736120980099-320-0.webp 320w, //d3ugyf2ht6aenh.cloudfront.net/stores/001/172/573/products/inshot_20230113_0913468921-879d780cdd5bd3646216736120980099-480-0.webp 480w\" height=\"1920\" src=\"//d3ugyf2ht6aenh.cloudfront.net/assets/themes/amazonas/static/images/empty-placeholder.png?580426362\" width=\"1920\"/>\n",
       " <div class=\"placeholder-fade\">\n",
       " </div>\n",
       " </a>\n",
       " </div>\n",
       " <div class=\"labels\" data-store=\"product-item-labels\">\n",
       " </div>\n",
       " <span class=\"hidden\" data-store=\"stock-product-152634369-infinite\"></span> </div>,\n",
       " <div class=\"item-image\">\n",
       " <div class=\"position-relative\" data-store=\"product-item-image-152634011\" style=\"padding-bottom: 100%;\">\n",
       " <a aria-label=\"CHIA NARANJA Y DURAZNO 910ML CHIA GRAAL\" href=\"https://dieteticarojas.com/productos/chia-naranja-y-durazno-910ml-chia-graal/\" title=\"CHIA NARANJA Y DURAZNO 910ML CHIA GRAAL\">\n",
       " <img alt=\"CHIA NARANJA Y DURAZNO 910ML CHIA GRAAL\" class=\"js-item-image lazyautosizes lazyload img-absolute img-absolute-centered fade-in\" data-expand=\"-10\" data-srcset=\"//d3ugyf2ht6aenh.cloudfront.net/stores/001/172/573/products/granaterra-chiagraal-910-naranja1-896623703c37581fa516736119885063-240-0.webp 240w, //d3ugyf2ht6aenh.cloudfront.net/stores/001/172/573/products/granaterra-chiagraal-910-naranja1-896623703c37581fa516736119885063-320-0.webp 320w, //d3ugyf2ht6aenh.cloudfront.net/stores/001/172/573/products/granaterra-chiagraal-910-naranja1-896623703c37581fa516736119885063-480-0.webp 480w\" height=\"1000\" src=\"//d3ugyf2ht6aenh.cloudfront.net/assets/themes/amazonas/static/images/empty-placeholder.png?580426362\" width=\"1000\"/>\n",
       " <div class=\"placeholder-fade\">\n",
       " </div>\n",
       " </a>\n",
       " </div>\n",
       " <div class=\"labels\" data-store=\"product-item-labels\">\n",
       " </div>\n",
       " <span class=\"hidden\" data-store=\"stock-product-152634011-infinite\"></span> </div>,\n",
       " <div class=\"item-image\">\n",
       " <div class=\"position-relative\" data-store=\"product-item-image-152633445\" style=\"padding-bottom: 100%;\">\n",
       " <a aria-label=\"CHIA LIMON Y JENGIBRE 250ML CHIA GRAAL.\" href=\"https://dieteticarojas.com/productos/chia-limon-y-jengibre-250ml-chia-graal/\" title=\"CHIA LIMON Y JENGIBRE 250ML CHIA GRAAL.\">\n",
       " <img alt=\"CHIA LIMON Y JENGIBRE 250ML CHIA GRAAL.\" class=\"js-item-image lazyautosizes lazyload img-absolute img-absolute-centered fade-in\" data-expand=\"-10\" data-srcset=\"//d3ugyf2ht6aenh.cloudfront.net/stores/001/172/573/products/inshot_20230113_0907227711-9f792497d990ae60f116736118102433-240-0.webp 240w, //d3ugyf2ht6aenh.cloudfront.net/stores/001/172/573/products/inshot_20230113_0907227711-9f792497d990ae60f116736118102433-320-0.webp 320w, //d3ugyf2ht6aenh.cloudfront.net/stores/001/172/573/products/inshot_20230113_0907227711-9f792497d990ae60f116736118102433-480-0.webp 480w\" height=\"3072\" src=\"//d3ugyf2ht6aenh.cloudfront.net/assets/themes/amazonas/static/images/empty-placeholder.png?580426362\" width=\"3072\"/>\n",
       " <div class=\"placeholder-fade\">\n",
       " </div>\n",
       " </a>\n",
       " </div>\n",
       " <div class=\"labels\" data-store=\"product-item-labels\">\n",
       " </div>\n",
       " <span class=\"hidden\" data-store=\"stock-product-152633445-infinite\"></span> </div>,\n",
       " <div class=\"item-image\">\n",
       " <div class=\"position-relative\" data-store=\"product-item-image-152631336\" style=\"padding-bottom: 100%;\">\n",
       " <a aria-label=\"CHIA NARANJA Y FRUTILLA 250ML CHIA GRAAL.\" href=\"https://dieteticarojas.com/productos/chia-naranja-y-frutilla-250ml-chia-graal/\" title=\"CHIA NARANJA Y FRUTILLA 250ML CHIA GRAAL.\">\n",
       " <img alt=\"CHIA NARANJA Y FRUTILLA 250ML CHIA GRAAL.\" class=\"js-item-image lazyautosizes lazyload img-absolute img-absolute-centered fade-in\" data-expand=\"-10\" data-srcset=\"//d3ugyf2ht6aenh.cloudfront.net/stores/001/172/573/products/chia-graal-jugo_de_frutilla_naranja_y_semillas_de_chia_imagen111-e23eaf3a254b17a51915941877323971-1024-10241-6adcd947340cc66ad616736112552781-240-0.webp 240w, //d3ugyf2ht6aenh.cloudfront.net/stores/001/172/573/products/chia-graal-jugo_de_frutilla_naranja_y_semillas_de_chia_imagen111-e23eaf3a254b17a51915941877323971-1024-10241-6adcd947340cc66ad616736112552781-320-0.webp 320w, //d3ugyf2ht6aenh.cloudfront.net/stores/001/172/573/products/chia-graal-jugo_de_frutilla_naranja_y_semillas_de_chia_imagen111-e23eaf3a254b17a51915941877323971-1024-10241-6adcd947340cc66ad616736112552781-480-0.webp 480w\" height=\"1000\" src=\"//d3ugyf2ht6aenh.cloudfront.net/assets/themes/amazonas/static/images/empty-placeholder.png?580426362\" width=\"1000\"/>\n",
       " <div class=\"placeholder-fade\">\n",
       " </div>\n",
       " </a>\n",
       " </div>\n",
       " <div class=\"labels\" data-store=\"product-item-labels\">\n",
       " </div>\n",
       " <span class=\"hidden\" data-store=\"stock-product-152631336-infinite\"></span> </div>,\n",
       " <div class=\"item-image\">\n",
       " <div class=\"position-relative\" data-store=\"product-item-image-152630213\" style=\"padding-bottom: 100%;\">\n",
       " <a aria-label=\"CHIA NARANJA Y DURAZNO 250ML CHIA GRAAL\" href=\"https://dieteticarojas.com/productos/chia-naranja-y-durazno-250ml-chia-graal/\" title=\"CHIA NARANJA Y DURAZNO 250ML CHIA GRAAL\">\n",
       " <img alt=\"CHIA NARANJA Y DURAZNO 250ML CHIA GRAAL\" class=\"js-item-image lazyautosizes lazyload img-absolute img-absolute-centered fade-in\" data-expand=\"-10\" data-srcset=\"//d3ugyf2ht6aenh.cloudfront.net/stores/001/172/573/products/chia-graal-jugo_de_limon_jengibre_y_semillas_de_chia_1_imagen111-3ef6cc3b7bba2ac34015941875891879-1024-102411-c3f0cef3aaddc806bc16736109844703-240-0.webp 240w, //d3ugyf2ht6aenh.cloudfront.net/stores/001/172/573/products/chia-graal-jugo_de_limon_jengibre_y_semillas_de_chia_1_imagen111-3ef6cc3b7bba2ac34015941875891879-1024-102411-c3f0cef3aaddc806bc16736109844703-320-0.webp 320w, //d3ugyf2ht6aenh.cloudfront.net/stores/001/172/573/products/chia-graal-jugo_de_limon_jengibre_y_semillas_de_chia_1_imagen111-3ef6cc3b7bba2ac34015941875891879-1024-102411-c3f0cef3aaddc806bc16736109844703-480-0.webp 480w\" height=\"1000\" src=\"//d3ugyf2ht6aenh.cloudfront.net/assets/themes/amazonas/static/images/empty-placeholder.png?580426362\" width=\"1000\"/>\n",
       " <div class=\"placeholder-fade\">\n",
       " </div>\n",
       " </a>\n",
       " </div>\n",
       " <div class=\"labels\" data-store=\"product-item-labels\">\n",
       " </div>\n",
       " <span class=\"hidden\" data-store=\"stock-product-152630213-infinite\"></span> </div>,\n",
       " <div class=\"item-image\">\n",
       " <div class=\"position-relative\" data-store=\"product-item-image-141592222\" style=\"padding-bottom: 100%;\">\n",
       " <a aria-label=\"YOGURT GRIEGO NATURAL CON STEVIA 950GR CAPULI\" href=\"https://dieteticarojas.com/productos/yogurt-griego-natural-con-stevia-950gr-capuli/\" title=\"YOGURT GRIEGO NATURAL CON STEVIA 950GR CAPULI\">\n",
       " <img alt=\"YOGURT GRIEGO NATURAL CON STEVIA 950GR CAPULI\" class=\"js-item-image lazyautosizes lazyload img-absolute img-absolute-centered fade-in\" data-expand=\"-10\" data-srcset=\"//d3ugyf2ht6aenh.cloudfront.net/stores/001/172/573/products/inshot_20221110_0857127921-eb07b4d4316659ab5e16680828641670-240-0.webp 240w, //d3ugyf2ht6aenh.cloudfront.net/stores/001/172/573/products/inshot_20221110_0857127921-eb07b4d4316659ab5e16680828641670-320-0.webp 320w, //d3ugyf2ht6aenh.cloudfront.net/stores/001/172/573/products/inshot_20221110_0857127921-eb07b4d4316659ab5e16680828641670-480-0.webp 480w\" height=\"4096\" src=\"//d3ugyf2ht6aenh.cloudfront.net/assets/themes/amazonas/static/images/empty-placeholder.png?580426362\" width=\"4096\"/>\n",
       " <div class=\"placeholder-fade\">\n",
       " </div>\n",
       " </a>\n",
       " </div>\n",
       " <div class=\"labels\" data-store=\"product-item-labels\">\n",
       " </div>\n",
       " <span class=\"hidden\" data-store=\"stock-product-141592222-infinite\"></span> </div>,\n",
       " <div class=\"item-image\">\n",
       " <div class=\"position-relative\" data-store=\"product-item-image-141592089\" style=\"padding-bottom: 100%;\">\n",
       " <a aria-label=\"YOGURT GRIEGO NATURAL 950GR CAPULI\" href=\"https://dieteticarojas.com/productos/yogurt-griego-natural-950gr-capuli/\" title=\"YOGURT GRIEGO NATURAL 950GR CAPULI\">\n",
       " <img alt=\"YOGURT GRIEGO NATURAL 950GR CAPULI\" class=\"js-item-image lazyautosizes lazyload img-absolute img-absolute-centered fade-in\" data-expand=\"-10\" data-srcset=\"//d3ugyf2ht6aenh.cloudfront.net/stores/001/172/573/products/inshot_20221110_0858277941-9df0ece6031537c66616680826857653-240-0.webp 240w, //d3ugyf2ht6aenh.cloudfront.net/stores/001/172/573/products/inshot_20221110_0858277941-9df0ece6031537c66616680826857653-320-0.webp 320w, //d3ugyf2ht6aenh.cloudfront.net/stores/001/172/573/products/inshot_20221110_0858277941-9df0ece6031537c66616680826857653-480-0.webp 480w\" height=\"4096\" src=\"//d3ugyf2ht6aenh.cloudfront.net/assets/themes/amazonas/static/images/empty-placeholder.png?580426362\" width=\"4096\"/>\n",
       " <div class=\"placeholder-fade\">\n",
       " </div>\n",
       " </a>\n",
       " </div>\n",
       " <div class=\"labels\" data-store=\"product-item-labels\">\n",
       " </div>\n",
       " <span class=\"hidden\" data-store=\"stock-product-141592089-infinite\"></span> </div>,\n",
       " <div class=\"item-image\">\n",
       " <div class=\"position-relative\" data-store=\"product-item-image-135260640\" style=\"padding-bottom: 100%;\">\n",
       " <a aria-label=\"MILANESA DE SOJA GREEN DRAGON VEGAN FOOD\" href=\"https://dieteticarojas.com/productos/milanesa-de-soja-green-dragon-vegan-food/\" title=\"MILANESA DE SOJA GREEN DRAGON VEGAN FOOD\">\n",
       " <img alt=\"MILANESA DE SOJA GREEN DRAGON VEGAN FOOD\" class=\"js-item-image lazyautosizes lazyload img-absolute img-absolute-centered fade-in\" data-expand=\"-10\" data-srcset=\"//d3ugyf2ht6aenh.cloudfront.net/stores/001/172/573/products/inshot_20220929_0038481131-1415576f8f4c77f3d716644227489792-240-0.webp 240w, //d3ugyf2ht6aenh.cloudfront.net/stores/001/172/573/products/inshot_20220929_0038481131-1415576f8f4c77f3d716644227489792-320-0.webp 320w, //d3ugyf2ht6aenh.cloudfront.net/stores/001/172/573/products/inshot_20220929_0038481131-1415576f8f4c77f3d716644227489792-480-0.webp 480w\" height=\"1920\" src=\"//d3ugyf2ht6aenh.cloudfront.net/assets/themes/amazonas/static/images/empty-placeholder.png?580426362\" width=\"1920\"/>\n",
       " <div class=\"placeholder-fade\">\n",
       " </div>\n",
       " </a>\n",
       " </div>\n",
       " <div class=\"labels\" data-store=\"product-item-labels\">\n",
       " </div>\n",
       " <span class=\"hidden\" data-store=\"stock-product-135260640-infinite\"></span> </div>,\n",
       " <div class=\"item-image\">\n",
       " <div class=\"position-relative\" data-store=\"product-item-image-135260511\" style=\"padding-bottom: 100%;\">\n",
       " <a aria-label=\"MILANESA DE LEGUMBRES GARBANZO GREEN DRAGON VEGAN FOOD\" href=\"https://dieteticarojas.com/productos/milanesa-de-legumbres-garbanzo-green-dragon-vegan-food/\" title=\"MILANESA DE LEGUMBRES GARBANZO GREEN DRAGON VEGAN FOOD\">\n",
       " <img alt=\"MILANESA DE LEGUMBRES GARBANZO GREEN DRAGON VEGAN FOOD\" class=\"js-item-image lazyautosizes lazyload img-absolute img-absolute-centered fade-in\" data-expand=\"-10\" data-srcset=\"//d3ugyf2ht6aenh.cloudfront.net/stores/001/172/573/products/inshot_20220929_0035113131-9c9c838ee08403cb0216644225900394-240-0.webp 240w, //d3ugyf2ht6aenh.cloudfront.net/stores/001/172/573/products/inshot_20220929_0035113131-9c9c838ee08403cb0216644225900394-320-0.webp 320w, //d3ugyf2ht6aenh.cloudfront.net/stores/001/172/573/products/inshot_20220929_0035113131-9c9c838ee08403cb0216644225900394-480-0.webp 480w\" height=\"1920\" src=\"//d3ugyf2ht6aenh.cloudfront.net/assets/themes/amazonas/static/images/empty-placeholder.png?580426362\" width=\"1920\"/>\n",
       " <div class=\"placeholder-fade\">\n",
       " </div>\n",
       " </a>\n",
       " </div>\n",
       " <div class=\"labels\" data-store=\"product-item-labels\">\n",
       " </div>\n",
       " <span class=\"hidden\" data-store=\"stock-product-135260511-infinite\"></span> </div>,\n",
       " <div class=\"item-image\">\n",
       " <div class=\"position-relative\" data-store=\"product-item-image-135260170\" style=\"padding-bottom: 100%;\">\n",
       " <a aria-label=\"MILANESA DE LEGUMBRES ARVERJA GREEN DRAGON VEGAN FOOD\" href=\"https://dieteticarojas.com/productos/milanesa-de-legumbres-arverja-green-dragon-vegan-food/\" title=\"MILANESA DE LEGUMBRES ARVERJA GREEN DRAGON VEGAN FOOD\">\n",
       " <img alt=\"MILANESA DE LEGUMBRES ARVERJA GREEN DRAGON VEGAN FOOD\" class=\"js-item-image lazyautosizes lazyload img-absolute img-absolute-centered fade-in\" data-expand=\"-10\" data-srcset=\"//d3ugyf2ht6aenh.cloudfront.net/stores/001/172/573/products/inshot_20220929_0029064741-108c8efaf9b2f3ac2d16644224163547-240-0.webp 240w, //d3ugyf2ht6aenh.cloudfront.net/stores/001/172/573/products/inshot_20220929_0029064741-108c8efaf9b2f3ac2d16644224163547-320-0.webp 320w, //d3ugyf2ht6aenh.cloudfront.net/stores/001/172/573/products/inshot_20220929_0029064741-108c8efaf9b2f3ac2d16644224163547-480-0.webp 480w\" height=\"1920\" src=\"//d3ugyf2ht6aenh.cloudfront.net/assets/themes/amazonas/static/images/empty-placeholder.png?580426362\" width=\"1920\"/>\n",
       " <div class=\"placeholder-fade\">\n",
       " </div>\n",
       " </a>\n",
       " </div>\n",
       " <div class=\"labels\" data-store=\"product-item-labels\">\n",
       " </div>\n",
       " <span class=\"hidden\" data-store=\"stock-product-135260170-infinite\"></span> </div>]"
      ]
     },
     "execution_count": 58,
     "metadata": {},
     "output_type": "execute_result"
    }
   ],
   "source": [
    "frescos.find_all(\"div\", class_=\"item-image\")"
   ]
  }
 ],
 "metadata": {
  "kernelspec": {
   "display_name": "Python 3",
   "language": "python",
   "name": "python3"
  },
  "language_info": {
   "codemirror_mode": {
    "name": "ipython",
    "version": 3
   },
   "file_extension": ".py",
   "mimetype": "text/x-python",
   "name": "python",
   "nbconvert_exporter": "python",
   "pygments_lexer": "ipython3",
   "version": "3.9.13 (main, May 23 2022, 22:01:06) \n[GCC 9.4.0]"
  },
  "orig_nbformat": 4,
  "vscode": {
   "interpreter": {
    "hash": "f9f85f796d01129d0dd105a088854619f454435301f6ffec2fea96ecbd9be4ac"
   }
  }
 },
 "nbformat": 4,
 "nbformat_minor": 2
}
