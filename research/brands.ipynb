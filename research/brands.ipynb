{
 "cells": [
  {
   "cell_type": "code",
   "execution_count": 1,
   "metadata": {},
   "outputs": [],
   "source": [
    "import json\n",
    "import nltk\n",
    "from fuzzywuzzy import fuzz, process"
   ]
  },
  {
   "cell_type": "code",
   "execution_count": 113,
   "metadata": {},
   "outputs": [],
   "source": [
    "brands = [\n",
    "    \"DR CACAO\", \"CHOVI\", \"OH YEAH ITS VEGAN\", \"1854 HIERBAS Y ESPECIAS\", \"CHIA GRAAL\", \"DAHI\", \"SOCOCO\", \"NATURAL CANDY\", \"FELICES LAS VACAS\",\n",
    "    \"SAN GIORGIO\", \"EL ANTIGUO\", \"CERAL\", \"LAUR\", \"CARACAS\", \"GUADALEST\", \"YIN YANG\", \"JESPER\", \"OLIVARES DG\", \"MASSEUBE\", \"AL KANATER\",\n",
    "    \"CAPULI\", \"VRINK\", \"PAMPAGOURMET\", \"TERRASANA\", \"UN RINCON VEGANO\", \"TEQUE POPS\", \"COPANI\", \"MRS TASTE\", \"EL CONQUISTADOR\", \"PURO CACAO\",\n",
    "    \"LEON DE PONCHO\", \"RECETAS DE ENTONCES\", \"WEEKIT FIT\", \"VIVET\", \"NOTCO\", \"FINCA CAROLINA\", \"WAW FOOD\", \"HIERBAS DEL OASIS\", \"EGGS HÖNS\",\n",
    "    \"MONTECITOS\", \"SANAT\", \"DICOMERE\", \"ROOTS\", \"FRANCH SNACKS\", \"SAINT GOTTARD\", \"CABAÑA MICO\", \"LEE KUM KEE\", \"KALPA\", \"FAMILIA CECCHIN\",\n",
    "    \"QUIMYA\", \"NECTAR DE LOS DIOSES\", \"INTI ZEN\", \"ORALI\", \"EL CASTILLO\", \"FITFRUITS\", \"ISONDU\", \"MELTAIM\", \"LILEN\", \"LA PRIMERA\", \"EL POCILLO\",\n",
    "    \"SIETE LAGOS\", \"GRANIX\", \"DOÑA MAGDALENA\", \"PAMPA VIDA\", \"MARBE\", \"BEEPURE\", \"MILDFOR\", \"LE FIT\", \"JUAL\", \"HORVINDUL\", \"ALMADRE\", \"VAL MAIRA\",\n",
    "    \"HASHI\", \"DARAMA\", \"ARAPEGUA\", \"DELL'ISOLA\", \"CANARIAS\", \"CUARTO CRECIENTE\", \"JEPEA\", \"TREVER\", \"MISIONES\", \"LAS QUINAS\", \"MOLE\", \"ANDIAMO\",\n",
    "    \"MIEL DE MONTE\", \"HIERBAS SILVESTRES\", \"ZAFRAN\", \"DYD\", \"ANTICHI COLLI\", \"LA ESQUINA DE LAS FLORES\", \"SH/VA\", \"LEVEX\", \"NOLATE\", \"VITA BIOSA\",\n",
    "    \"TRINI\", \"ORGANIKAL\", \"MALTIFE\", \"MUECAS\", \"MASSA FIT\", \"GRUPO QUEHUEN\", \"CUYEN\", \"ORIGEN\", \"VERDEFLOR\", \"HELLO VEGAN\", \"CAN VAS\", \"INCAICO\",\n",
    "    \"ARCHIMBOLDO\", \"NUTRESAN\", \"THE PAN FACTORY\", \"ALIMENTOS NATALI\", \"CASALTA\", \"CEPERA\", \"NOT MAYO\", \"DEL REY\", \"KANSAS\", \"CHACRA ECOLOGICA IVU\",\n",
    "    \"CARMELA TOMASA\", \"BIOWAY\", \"ORO RUBI\", \"KURO\", \"LA FRANCIA\", \"GALLY BELL\", \"AGUILA\", \"COLON\", \"PAMPA\", \"IZEN\", \"GENSER\", \"NAPUS\", \"MC ILHENNY\",\n",
    "    \"MAPSA\", \"NATURAL SEED\", \"FLEIBOR\", \"DISMAC\", \"SOLAZTECA\", \"SCHATZI\", \"MIRAFLORES\", \"CRUDDA\", \"MARQUES DE HUACO\", \"GURFI\", \"MI SOJA\", \"BEEGREEN\"\n",
    "]"
   ]
  },
  {
   "cell_type": "code",
   "execution_count": 6,
   "metadata": {},
   "outputs": [
    {
     "name": "stdout",
     "output_type": "stream",
     "text": [
      "Hay 2034 productos en total\n"
     ]
    }
   ],
   "source": [
    "file = open(\"results/dietetica_rojas/almacen.json\", \"r\")\n",
    "products = json.load(file)\n",
    "print(f'Hay {len(products)} productos en total')\n",
    "file.close()"
   ]
  },
  {
   "cell_type": "code",
   "execution_count": 4,
   "metadata": {},
   "outputs": [
    {
     "name": "stderr",
     "output_type": "stream",
     "text": [
      "[nltk_data] Downloading package stopwords to\n",
      "[nltk_data]     /home/ezequiel/nltk_data...\n",
      "[nltk_data]   Package stopwords is already up-to-date!\n"
     ]
    }
   ],
   "source": [
    "nltk.download('stopwords')\n",
    "common_words=set(stopwords.words('spanish'))"
   ]
  },
  {
   "cell_type": "code",
   "execution_count": 33,
   "metadata": {},
   "outputs": [
    {
     "name": "stdout",
     "output_type": "stream",
     "text": [
      "('LECHE DE ALMENDRAS ORIGINAL 1LT VRINK', 87)\n",
      "('LECHE DE ALMENDRA SABOR VAINILLA 1LT VRINK', 83)\n",
      "('LECHE DE ALMENDRAS BANANA 1LT VRINK', 78)\n",
      "('LECHE DE ALMENDRAS 1LT PAMPA VIDA', 78)\n",
      "('ALFAJOR NEGRO VEGANO RELLENO DE DULCE DE ALMENDRAS 60GR NOLATE', 74)\n",
      "('YOGUR PROBIOTICO DE ALMENDRAS Y FRUTILLA 200GR FELICES LAS VACAS', 74)\n",
      "('DULCE DE ALMENDRAS REPOSTERO 1KG FELICES LAS VACAS', 74)\n",
      "('LECHE DE ALMENDRAS SIN AZUCAR 1LT VRINK', 74)\n",
      "('PASTA DE ALMENDRAS 170GR VRINK', 74)\n",
      "('LECHE DE AVENA SIN AZUCAR 1LT VRINK', 74)\n",
      "('LECHE DE ALMENDRAS SIN AZUCAR 200ML VRINK', 74)\n",
      "('HARINA DE ALMENDRAS 300GR WAW FOOD', 70)\n",
      "('YOGUR PROBIOTICO DE ALMENDRAS Y VAINILLA 200GR FELICES LAS VACAS', 70)\n",
      "('QUESO UNTABLE DE ALMENDRAS SABOR JAMON SERRANO 200GR FELICES LAS VACAS', 70)\n",
      "('DULCE DE ALMENDRAS SABOR DULCE DE LECHE 250GR FELICES LAS VACAS', 70)\n",
      "('LECHE DE ALMENDRA SIN AZUCAR 1LT PAMPA VIDA', 70)\n",
      "('LECHE DE ALMENDRAS SABOR CHOCOLATE 1LT VRINK', 70)\n",
      "('LECHE DE MANI CON CHOCOLATE 1LT VRINK', 70)\n",
      "('LECHE DE MANI 1LT VRINK', 70)\n",
      "('HARINA DE ALMENDRAS SIN PIEL X 100GR', 70)\n"
     ]
    }
   ],
   "source": [
    "for each in process.extract(\n",
    "    'LECHE DE ALMENDRA VRINK'.lower(), \n",
    "    [' '.join(filter(lambda word: not word in common_words, each['item'].split())) for each in products], \n",
    "    limit=20, \n",
    "    scorer=fuzz.partial_token_sort_ratio):\n",
    "        print(each)"
   ]
  },
  {
   "cell_type": "code",
   "execution_count": 30,
   "metadata": {},
   "outputs": [
    {
     "name": "stdout",
     "output_type": "stream",
     "text": [
      "('LECHE DE ALMENDRAS ORIGINAL 1LT VRINK', 87)\n",
      "('LECHE DE ALMENDRA SABOR VAINILLA 1LT VRINK', 83)\n",
      "('LECHE DE ALMENDRAS BANANA 1LT VRINK', 78)\n",
      "('LECHE DE ALMENDRAS 1LT PAMPA VIDA', 78)\n",
      "('ALFAJOR NEGRO VEGANO RELLENO DE DULCE DE ALMENDRAS 60GR NOLATE', 74)\n",
      "('YOGUR PROBIOTICO DE ALMENDRAS Y FRUTILLA 200GR FELICES LAS VACAS', 74)\n",
      "('DULCE DE ALMENDRAS REPOSTERO 1KG FELICES LAS VACAS', 74)\n",
      "('LECHE DE ALMENDRAS SIN AZUCAR 1LT VRINK', 74)\n",
      "('PASTA DE ALMENDRAS 170GR VRINK', 74)\n",
      "('LECHE DE AVENA SIN AZUCAR 1LT VRINK', 74)\n",
      "('LECHE DE ALMENDRAS SIN AZUCAR 200ML VRINK', 74)\n",
      "('HARINA DE ALMENDRAS 300GR WAW FOOD', 70)\n",
      "('YOGUR PROBIOTICO DE ALMENDRAS Y VAINILLA 200GR FELICES LAS VACAS', 70)\n",
      "('QUESO UNTABLE DE ALMENDRAS SABOR JAMON SERRANO 200GR FELICES LAS VACAS', 70)\n",
      "('DULCE DE ALMENDRAS SABOR DULCE DE LECHE 250GR FELICES LAS VACAS', 70)\n",
      "('LECHE DE ALMENDRA SIN AZUCAR 1LT PAMPA VIDA', 70)\n",
      "('LECHE DE ALMENDRAS SABOR CHOCOLATE 1LT VRINK', 70)\n",
      "('LECHE DE MANI CON CHOCOLATE 1LT VRINK', 70)\n",
      "('LECHE DE MANI 1LT VRINK', 70)\n",
      "('HARINA DE ALMENDRAS SIN PIEL X 100GR', 70)\n"
     ]
    }
   ],
   "source": [
    "for each in process.extract(\n",
    "    'LECHE DE ALMENDRA VRINK'.lower(), \n",
    "    [' '.join(filter(lambda word: not word in common_words, each['item'].split())) for each in products], \n",
    "    limit=20, \n",
    "    scorer=fuzz.partial_token_sort_ratio):\n",
    "        print(each)"
   ]
  },
  {
   "cell_type": "code",
   "execution_count": 120,
   "metadata": {},
   "outputs": [
    {
     "data": {
      "text/plain": [
       "73"
      ]
     },
     "execution_count": 120,
     "metadata": {},
     "output_type": "execute_result"
    }
   ],
   "source": [
    "process.extractOne(\n",
    "    'CHOCOLATE SIN AZUCAR 80% CACAO 80GR DR CACAO'.lower(), \n",
    "    [\"CHOCOLATE CACAO\"], \n",
    "    scorer=fuzz.partial_ratio)[1]"
   ]
  },
  {
   "cell_type": "code",
   "execution_count": 114,
   "metadata": {},
   "outputs": [
    {
     "name": "stdout",
     "output_type": "stream",
     "text": [
      "Hay 2034 productos en total\n",
      "Se emparejaron 1172 productos en total y faltan 862\n"
     ]
    }
   ],
   "source": [
    "with open(\"results/dietetica_rojas/almacen.json\", \"r\") as file:\n",
    "    products = json.load(file)\n",
    "    print(f'Hay {len(products)} productos en total')\n",
    "    products_without_brands = []\n",
    "    matches = 0\n",
    "    unmatches = 0\n",
    "    for product in products:\n",
    "        if process.extractOne(product['item'].lower(), brands, scorer=fuzz.partial_ratio)[1] >= 85:\n",
    "            matches = matches+1\n",
    "        else:\n",
    "            unmatches = unmatches+1\n",
    "    print(f'Se emparejaron {matches} productos en total y faltan {unmatches}')"
   ]
  },
  {
   "cell_type": "code",
   "execution_count": 14,
   "metadata": {},
   "outputs": [
    {
     "data": {
      "text/plain": [
       "75"
      ]
     },
     "execution_count": 14,
     "metadata": {},
     "output_type": "execute_result"
    }
   ],
   "source": [
    "Str1 = \"CHOCOLATE SIN AZUCAR 80% CACAO NESQUIK\"\n",
    "Str2 = \"DR CACAO\"\n",
    "fuzz.partial_ratio(Str1.lower(),Str2.lower())\n"
   ]
  },
  {
   "cell_type": "code",
   "execution_count": 5,
   "metadata": {},
   "outputs": [
    {
     "name": "stdout",
     "output_type": "stream",
     "text": [
      "73\n"
     ]
    }
   ],
   "source": [
    "from fuzzywuzzy import fuzz\n",
    "Str1 = \"CHOCOLATE SIN AZUCAR 80% CACAO DR CACAO\"\n",
    "Str2 = \"DR CACAO\"\n",
    "Ratio = fuzz.ratio(Str1.lower(),Str2.lower())\n",
    "print(Ratio)"
   ]
  }
 ],
 "metadata": {
  "kernelspec": {
   "display_name": "Python 3",
   "language": "python",
   "name": "python3"
  },
  "language_info": {
   "codemirror_mode": {
    "name": "ipython",
    "version": 3
   },
   "file_extension": ".py",
   "mimetype": "text/x-python",
   "name": "python",
   "nbconvert_exporter": "python",
   "pygments_lexer": "ipython3",
   "version": "3.10.8"
  },
  "orig_nbformat": 4,
  "vscode": {
   "interpreter": {
    "hash": "97cc609b13305c559618ec78a438abc56230b9381f827f22d070313b9a1f3777"
   }
  }
 },
 "nbformat": 4,
 "nbformat_minor": 2
}
