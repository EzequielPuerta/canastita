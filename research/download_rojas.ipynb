{
 "cells": [
  {
   "cell_type": "code",
   "execution_count": 5,
   "metadata": {},
   "outputs": [],
   "source": [
    "%%capture\n",
    "from tqdm.notebook import tqdm\n",
    "tqdm().pandas()"
   ]
  },
  {
   "cell_type": "code",
   "execution_count": 2,
   "metadata": {},
   "outputs": [],
   "source": [
    "import re\n",
    "import json\n",
    "from time import sleep\n",
    "from bs4 import BeautifulSoup\n",
    "from urllib.request import urlopen\n",
    "\n",
    "def scrap(url):\n",
    "    downloaded = urlopen(url).read().decode(\"utf-8\")\n",
    "    if downloaded:\n",
    "        return BeautifulSoup(downloaded, \"html.parser\")\n",
    "    else:\n",
    "        raise ValueError('Nothing to scrap')\n",
    "\n",
    "def store_page(soup, results):\n",
    "    for product in soup.find_all(\"div\", class_=\"item-product\"):\n",
    "        description = product.find(\"div\", class_=\"item-description\").find('a')\n",
    "        item_name = description.find(\"div\", class_=\"item-name\").string\n",
    "        item_price = \" \".join(description.find(\"span\", class_=\"item-price\").string.split())\n",
    "        item_stock = product.find(\"span\", attrs={\"data-store\" : re.compile(\"^stock-product-(\\d)+-0$\")})\n",
    "        item_stock = \"Infinito\" if item_stock is None else \"Sin Stock\"\n",
    "        results.append({\"item\":item_name, \"price\":item_price, \"stock\":item_stock})\n",
    "\n",
    "def store_all_from(base_url, sleep_time=0):\n",
    "    results = []\n",
    "    store_page(scrap(base_url), results)\n",
    "\n",
    "    try:\n",
    "        page_number = 2\n",
    "        while True:\n",
    "            sleep(sleep_time)\n",
    "            url = f\"{base_url}page/{page_number}/?results_only=true&limit=30\"\n",
    "            store_page(scrap(url), results)\n",
    "            page_number = page_number+1\n",
    "    except ValueError:\n",
    "        pass\n",
    "    finally:\n",
    "        return results"
   ]
  },
  {
   "cell_type": "code",
   "execution_count": 6,
   "metadata": {},
   "outputs": [
    {
     "data": {
      "application/vnd.jupyter.widget-view+json": {
       "model_id": "be848257c2984ed2a55e95c747916100",
       "version_major": 2,
       "version_minor": 0
      },
      "text/plain": [
       "  0%|          | 0/12 [00:00<?, ?it/s]"
      ]
     },
     "metadata": {},
     "output_type": "display_data"
    }
   ],
   "source": [
    "urls = {\n",
    "    \"almacen\":              \"https://dieteticarojas.com/almacen/\",\n",
    "    \"productos_a_granel\":   \"https://dieteticarojas.com/productos-a-granel/\",\n",
    "    \"salud_y_belleza\":      \"https://dieteticarojas.com/salud-y-belleza/\",\n",
    "    \"frescos_y_congelados\": \"https://dieteticarojas.com/frescos-y-congelados/\",\n",
    "    \"bebidas_e_infusiones\": \"https://dieteticarojas.com/bebidas-e-infusiones/\",\n",
    "    \"apto_vegano\":          \"https://dieteticarojas.com/apto-veganos/\",\n",
    "    \"apto_diabetico\":       \"https://dieteticarojas.com/apto-diabetico/\",\n",
    "    \"aceites_esenciales\":   \"https://dieteticarojas.com/aceites-esenciales1/\",\n",
    "    \"frutas\":               \"https://dieteticarojas.com/frutas/\",\n",
    "    \"productos_organicos\":  \"https://dieteticarojas.com/productos-organicos/\",\n",
    "    \"snacks\":               \"https://dieteticarojas.com/snacks/\"\n",
    "}\n",
    "\n",
    "for file_name, url in tqdm(urls.items()):\n",
    "    results = store_all_from(url, sleep_time=0)\n",
    "    open(f\"results/dietetica_rojas/{file_name}.json\", \"w\").write(json.dumps(results))"
   ]
  }
 ],
 "metadata": {
  "kernelspec": {
   "display_name": "Python 3",
   "language": "python",
   "name": "python3"
  },
  "language_info": {
   "codemirror_mode": {
    "name": "ipython",
    "version": 3
   },
   "file_extension": ".py",
   "mimetype": "text/x-python",
   "name": "python",
   "nbconvert_exporter": "python",
   "pygments_lexer": "ipython3",
   "version": "3.10.8 (main, Oct 12 2022, 19:14:26) [GCC 9.4.0]"
  },
  "orig_nbformat": 4,
  "vscode": {
   "interpreter": {
    "hash": "97cc609b13305c559618ec78a438abc56230b9381f827f22d070313b9a1f3777"
   }
  }
 },
 "nbformat": 4,
 "nbformat_minor": 2
}
