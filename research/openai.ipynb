{
 "cells": [
  {
   "cell_type": "code",
   "execution_count": 182,
   "metadata": {},
   "outputs": [],
   "source": [
    "import json\n",
    "from copy import copy\n",
    "import openai\n",
    "import traceback\n",
    "\n",
    "openai.api_key = "
   ]
  },
  {
   "cell_type": "code",
   "execution_count": 179,
   "metadata": {},
   "outputs": [],
   "source": [
    "def openai_request(products_to_request):\n",
    "    response = openai.Completion.create(\n",
    "        model=\"text-davinci-003\",\n",
    "        prompt=f\"\"\"Devolveme solamente el tipo, marca, sabor o ingrediente, cantidad y unidad con el siguiente formato '{{TIPO:MARCA:SABOR_O_INGREDIENTE:CANTIDAD:UNIDAD}}'. Si no encontras la marca, escribí 'None'. En el mismo orden, para el siguiente texto:\\n{products_to_request}\"\"\",\n",
    "        temperature=0.6,\n",
    "        max_tokens=500,\n",
    "        top_p=0.6,\n",
    "        frequency_penalty=0,\n",
    "        presence_penalty=0)\n",
    "    result = response.choices[0].text\n",
    "    result = list(filter(lambda each: each != '' and each[0] == '{', result.split('\\n')))[0].split('},')\n",
    "    return list(map(lambda each: each.strip(' {}').split(':'), result))"
   ]
  },
  {
   "cell_type": "code",
   "execution_count": 188,
   "metadata": {},
   "outputs": [
    {
     "data": {
      "text/plain": [
       "['ENDULZANTE', 'XILITOL', '100', 'GR']"
      ]
     },
     "execution_count": 188,
     "metadata": {},
     "output_type": "execute_result"
    }
   ],
   "source": [
    "openai_data"
   ]
  },
  {
   "cell_type": "code",
   "execution_count": 186,
   "metadata": {},
   "outputs": [
    {
     "name": "stdout",
     "output_type": "stream",
     "text": [
      "['ENDULZANTE', 'XILITOL', '100', 'GR']\n"
     ]
    },
    {
     "name": "stderr",
     "output_type": "stream",
     "text": [
      "  File \"/tmp/ipykernel_74105/2946560680.py\", line 19, in <module>\n",
      "    product['unit'] = openai_data[4].lower()\n"
     ]
    }
   ],
   "source": [
    "json_file = open(f\"results/dietetica_rojas/almacen.json\", \"r\")\n",
    "raw_products = json.load(json_file)\n",
    "\n",
    "#tries = 2\n",
    "step = 15\n",
    "products = []\n",
    "try:\n",
    "    for i in range(0, len(raw_products), step):\n",
    "        # if tries == 0:\n",
    "        #     break\n",
    "        current_raw_products = raw_products[i:i+step]\n",
    "        raw_products_names_to_request = '\\n'.join(map(lambda raw_product: raw_product['item'], current_raw_products))\n",
    "        for raw_product, openai_data in zip(current_raw_products, openai_request(raw_products_names_to_request)):\n",
    "            product = copy(raw_product)\n",
    "            product['type'] = openai_data[0].lower()\n",
    "            product['brand'] = openai_data[1].lower()\n",
    "            product['subtype'] = openai_data[2].lower()\n",
    "            product['measurement'] = ''.join(filter(str.isdigit, openai_data[3]))\n",
    "            product['unit'] = openai_data[4].lower()\n",
    "            products.append(product)\n",
    "        # tries = tries - 1\n",
    "except Exception as error:\n",
    "    print(openai_data)\n",
    "    traceback.print_tb(error.__traceback__)\n",
    "\n",
    "json_file.close()\n",
    "json_file2 = open(f\"results/dietetica_rojas/almacen2.json\", \"w\")\n",
    "json_file2.write(json.dumps(products))\n",
    "json_file2.close()"
   ]
  }
 ],
 "metadata": {
  "kernelspec": {
   "display_name": "canastita",
   "language": "python",
   "name": "python3"
  },
  "language_info": {
   "codemirror_mode": {
    "name": "ipython",
    "version": 3
   },
   "file_extension": ".py",
   "mimetype": "text/x-python",
   "name": "python",
   "nbconvert_exporter": "python",
   "pygments_lexer": "ipython3",
   "version": "3.10.8"
  },
  "orig_nbformat": 4
 },
 "nbformat": 4,
 "nbformat_minor": 2
}
